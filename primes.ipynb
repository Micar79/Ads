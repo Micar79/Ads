{
  "nbformat": 4,
  "nbformat_minor": 0,
  "metadata": {
    "colab": {
      "name": "primes.ipynb",
      "provenance": [],
      "authorship_tag": "ABX9TyMpGu+nguKpKcrhF0HCfjVK",
      "include_colab_link": true
    },
    "kernelspec": {
      "name": "python3",
      "display_name": "Python 3"
    },
    "language_info": {
      "name": "python"
    }
  },
  "cells": [
    {
      "cell_type": "markdown",
      "metadata": {
        "id": "view-in-github",
        "colab_type": "text"
      },
      "source": [
        "<a href=\"https://colab.research.google.com/github/Micar79/Ads/blob/main/primes.ipynb\" target=\"_parent\"><img src=\"https://colab.research.google.com/assets/colab-badge.svg\" alt=\"Open In Colab\"/></a>"
      ]
    },
    {
      "cell_type": "code",
      "execution_count": null,
      "metadata": {
        "colab": {
          "base_uri": "https://localhost:8080/"
        },
        "id": "uQWABo1yG5YC",
        "outputId": "04f5ffec-14e9-421c-c8f2-875de3fe010e"
      },
      "outputs": [
        {
          "output_type": "stream",
          "name": "stdout",
          "text": [
            "[2, 3, 4, 5, 7, 11, 13, 17, 19, 23, 29]\n"
          ]
        }
      ],
      "source": [
        "# Program to check if a number is prime or not\n",
        "cn=[]\n",
        "for i in range(2,30):\n",
        "  for t in range(2, int(i/2)):\n",
        "    if (i % t) == 0:\n",
        "      break \n",
        "  else:\n",
        "    cn.append(i)\n",
        "print(cn) \n"
      ]
    },
    {
      "cell_type": "code",
      "source": [
        ""
      ],
      "metadata": {
        "id": "16ONJpECfbcT"
      },
      "execution_count": null,
      "outputs": []
    },
    {
      "cell_type": "code",
      "source": [
        ""
      ],
      "metadata": {
        "id": "ENFLwQD3Pd79"
      },
      "execution_count": null,
      "outputs": []
    },
    {
      "cell_type": "code",
      "source": [
        "def primes(m):\n",
        "  return [i for i in range(2, m+1) if 0 not in [i%n for n in range(2, i)]]"
      ],
      "metadata": {
        "id": "T0FGcy_Yckb5"
      },
      "execution_count": null,
      "outputs": []
    },
    {
      "cell_type": "code",
      "source": [
        "x = 50\n",
        "\n",
        "def one():\n",
        "  x = 10\n",
        "\n",
        "def two():\n",
        "  global x\n",
        "  x = 30\n",
        "\n",
        "def three():\n",
        "  x = 100\n",
        "  print(x)\n",
        "\n",
        "for func in [one, two, three]:\n",
        "  func()\n",
        "  print(x)"
      ],
      "metadata": {
        "id": "IncJ9zOF53Km",
        "outputId": "df3cc66d-8ffe-41a3-c717-56dc72aae42b",
        "colab": {
          "base_uri": "https://localhost:8080/"
        }
      },
      "execution_count": null,
      "outputs": [
        {
          "output_type": "stream",
          "name": "stdout",
          "text": [
            "50\n",
            "30\n",
            "100\n",
            "30\n"
          ]
        }
      ]
    },
    {
      "cell_type": "code",
      "source": [
        "primes(52)"
      ],
      "metadata": {
        "id": "vyCZPSwQgjBW",
        "outputId": "04e2cc9a-ac10-4aa6-aa86-87073dc65f89",
        "colab": {
          "base_uri": "https://localhost:8080/"
        }
      },
      "execution_count": null,
      "outputs": [
        {
          "output_type": "execute_result",
          "data": {
            "text/plain": [
              "[2, 3, 5, 7, 11, 13, 17, 19, 23, 29, 31, 37, 41, 43, 47]"
            ]
          },
          "metadata": {},
          "execution_count": 42
        }
      ]
    },
    {
      "cell_type": "code",
      "source": [
        "n = int(input(\"Enter your number: \"))\n",
        "primes = []\n",
        "\n",
        "for i in range(2, n + 1):\n",
        "\tfor j in range(2, int(i ** 0.5) + 1):\n",
        " \t\tif i%j == 0:\n",
        " \t\t\tbreak\n",
        "\telse:\n",
        "\t\tprimes.append(i)\n",
        "\n",
        "print(primes)"
      ],
      "metadata": {
        "colab": {
          "base_uri": "https://localhost:8080/"
        },
        "id": "9aZMFtIUczv-",
        "outputId": "f3f3a4e9-c8d2-4184-b1c5-b8f49b115397"
      },
      "execution_count": null,
      "outputs": [
        {
          "output_type": "stream",
          "name": "stdout",
          "text": [
            "Enter your number: 56\n",
            "[2, 3, 5, 7, 11, 13, 17, 19, 23, 29, 31, 37, 41, 43, 47, 53]\n"
          ]
        }
      ]
    }
  ]
}